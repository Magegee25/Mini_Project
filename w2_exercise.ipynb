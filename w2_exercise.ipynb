{
 "cells": [
  {
   "cell_type": "code",
   "execution_count": 2,
   "id": "73d4d2ad-37b4-4b9d-81fd-1ed1a0d08b39",
   "metadata": {},
   "outputs": [],
   "source": [
    "import numpy as np"
   ]
  },
  {
   "cell_type": "code",
   "execution_count": 11,
   "id": "854316db-6957-4e9b-b3fd-d52f7bf3a7fc",
   "metadata": {},
   "outputs": [
    {
     "name": "stdout",
     "output_type": "stream",
     "text": [
      "Range for uint8: 0 - 255\n",
      "Range for int8: -128 - 127\n",
      "Range for uint32: 0 - 4294967295\n",
      "Range for int32: -2147483648 - 2147483647\n"
     ]
    }
   ],
   "source": [
    "print('Range for uint8: ' + str(np.iinfo(np.uint8).min) + ' - ' + str(np.iinfo(np.uint8).max))\n",
    "print('Range for int8: ' + str(np.iinfo(np.int8).min) + ' - ' + str(np.iinfo(np.int8).max))\n",
    "print('Range for uint32: ' + str(np.iinfo(np.uint32).min) + ' - ' + str(np.iinfo(np.uint32).max))\n",
    "print('Range for int32: ' + str(np.iinfo(np.int32).min) + ' - ' + str(np.iinfo(np.int32).max))"
   ]
  },
  {
   "cell_type": "code",
   "execution_count": 15,
   "id": "eba86dc3-396d-4fc4-b343-c73182035b56",
   "metadata": {},
   "outputs": [
    {
     "name": "stdout",
     "output_type": "stream",
     "text": [
      "Number 3 is odd number.\n"
     ]
    }
   ],
   "source": [
    "def Odd_Even(n):\n",
    "    print('Number ' + str(n) + ' is even number.') if n % 2 == 0 else print('Number ' + str(n) + ' is odd number.')\n",
    "\n",
    "Odd_Even(3)"
   ]
  },
  {
   "cell_type": "code",
   "execution_count": 21,
   "id": "a19430e2-694e-462b-a540-966f7adfc5a6",
   "metadata": {},
   "outputs": [
    {
     "name": "stdout",
     "output_type": "stream",
     "text": [
      "Time Take for Numpy is 0.0019953250885009766 seconds\n",
      "Time Take for Python Array is 0.0035161972045898438 seconds\n"
     ]
    }
   ],
   "source": [
    "import time\n",
    "\n",
    "n = 1_000_000\n",
    "np_array = np.ones(n)\n",
    "\n",
    "start = time.time()\n",
    "np_sum = np.sum(np_array)\n",
    "end = time.time()\n",
    "np_time = end - start\n",
    "\n",
    "print('Time Take for Numpy is ' + str(np_time) + ' seconds')\n",
    "\n",
    "py_list = [1] * n\n",
    "\n",
    "start = time.time()\n",
    "py_sum = sum(py_list)\n",
    "end = time.time()\n",
    "np_time = end - start\n",
    "\n",
    "print('Time Take for Python Array is ' + str(np_time) + ' seconds')"
   ]
  },
  {
   "cell_type": "code",
   "execution_count": 26,
   "id": "acbc69fd-f261-47ee-b890-74ecdb488885",
   "metadata": {},
   "outputs": [
    {
     "name": "stdout",
     "output_type": "stream",
     "text": [
      "Initial my_arr:  [0 1 2 3 4 5 6 7 8 9]\n",
      "Initial arr_slice:  [0 1 2 3 4 5 6 7 8 9]\n",
      "my_arr:  [0 1 2 3 4 5 6 7 8 9]\n",
      "arr_slice:  [55  1  2  3  4  5  6  7  8  9]\n"
     ]
    }
   ],
   "source": [
    "# create a 1D array\n",
    "my_arr = np.arange(10)\n",
    "print(\"Initial my_arr: \", my_arr)\n",
    "arr_slice = np.copy(my_arr)\n",
    "print(\"Initial arr_slice: \", arr_slice)\n",
    "\n",
    "# change the first element of arr_slice\n",
    "arr_slice[0] = 55\n",
    "\n",
    "print(\"my_arr: \", my_arr)\n",
    "print(\"arr_slice: \", arr_slice)"
   ]
  },
  {
   "cell_type": "code",
   "execution_count": 3,
   "id": "0d8eb1e4-4c80-4632-b287-f5b37539da06",
   "metadata": {},
   "outputs": [
    {
     "data": {
      "image/png": "[encoded data removed]",
      "text/plain": [
       "<Figure size 640x480 with 1 Axes>"
      ]
     },
     "metadata": {},
     "output_type": "display_data"
    }
   ],
   "source": [
    "import matplotlib.pyplot as plt\n",
    "\n",
    "# 256x256, 3 colour channels (R, G, B)\n",
    "canvas = np.zeros((256, 256, 3), dtype=np.uint8)\n",
    "\n",
    "# Define circle parameters\n",
    "center_x, center_y = 128, 128\n",
    "radius = 50\n",
    "color = (255, 255, 255)  # White color\n",
    "\n",
    "# Draw the circle\n",
    "for x in range(256):\n",
    "    for y in range(256):\n",
    "        # Equation of Circle: x^2 + y^2 = r^2\n",
    "        if (x - center_x) ** 2 + (y - center_y) ** 2 <= radius ** 2:\n",
    "            canvas[y, x] = color\n",
    "\n",
    "# Display the image\n",
    "plt.imshow(canvas)\n",
    "plt.axis('off')\n",
    "plt.show()"
   ]
  },
  {
   "cell_type": "code",
   "execution_count": null,
   "id": "c9c84587-f5be-4935-8ac5-b56d712b7c95",
   "metadata": {},
   "outputs": [],
   "source": []
  }
 ],
 "metadata": {
  "kernelspec": {
   "display_name": "Python 3 (ipykernel)",
   "language": "python",
   "name": "python3"
  },
  "language_info": {
   "codemirror_mode": {
    "name": "ipython",
    "version": 3
   },
   "file_extension": ".py",
   "mimetype": "text/x-python",
   "name": "python",
   "nbconvert_exporter": "python",
   "pygments_lexer": "ipython3",
   "version": "3.12.0"
  }
 },
 "nbformat": 4,
 "nbformat_minor": 5
}
